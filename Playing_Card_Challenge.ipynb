{
 "cells": [
  {
   "cell_type": "markdown",
   "id": "6722e892",
   "metadata": {},
   "source": [
    "## Create a playing card that returns a value and a suit as a string"
   ]
  },
  {
   "cell_type": "code",
   "execution_count": 8,
   "id": "9d1ca57e",
   "metadata": {},
   "outputs": [],
   "source": [
    "class Card(object):\n",
    "    \n",
    "    def __init__ (self,value,suit):\n",
    "        self.value = value\n",
    "        self.suit = suit\n",
    "    \n",
    "    def get_value(self):\n",
    "        return self.value\n",
    "    \n",
    "    def get_suit(self):\n",
    "        return self.suit\n",
    "    \n",
    "    def __str__(self):\n",
    "        my_card = str(self.value) + ' of ' + str(self.suit)\n",
    "        return my_card"
   ]
  },
  {
   "cell_type": "code",
   "execution_count": 9,
   "id": "0e6721e2",
   "metadata": {},
   "outputs": [],
   "source": [
    "my_card = Card(3,'d')"
   ]
  },
  {
   "cell_type": "code",
   "execution_count": 10,
   "id": "60e3c272",
   "metadata": {},
   "outputs": [
    {
     "name": "stdout",
     "output_type": "stream",
     "text": [
      "3 of d\n"
     ]
    }
   ],
   "source": [
    "print(my_card)"
   ]
  },
  {
   "cell_type": "code",
   "execution_count": null,
   "id": "ddc87b89",
   "metadata": {},
   "outputs": [],
   "source": []
  }
 ],
 "metadata": {
  "kernelspec": {
   "display_name": "Python 3 (ipykernel)",
   "language": "python",
   "name": "python3"
  },
  "language_info": {
   "codemirror_mode": {
    "name": "ipython",
    "version": 3
   },
   "file_extension": ".py",
   "mimetype": "text/x-python",
   "name": "python",
   "nbconvert_exporter": "python",
   "pygments_lexer": "ipython3",
   "version": "3.9.7"
  }
 },
 "nbformat": 4,
 "nbformat_minor": 5
}
